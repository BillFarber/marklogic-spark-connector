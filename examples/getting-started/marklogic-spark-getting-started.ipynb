{
 "cells": [
  {
   "cell_type": "code",
   "execution_count": 1,
   "id": "1c6bd8b7",
   "metadata": {},
   "outputs": [
    {
     "name": "stderr",
     "output_type": "stream",
     "text": [
      "23/06/14 11:24:02 WARN NativeCodeLoader: Unable to load native-hadoop library for your platform... using builtin-java classes where applicable\n",
      "Setting default log level to \"WARN\".\n",
      "To adjust logging level use sc.setLogLevel(newLevel). For SparkR, use setLogLevel(newLevel).\n",
      "23/06/14 11:24:03 WARN Utils: Service 'SparkUI' could not bind on port 4040. Attempting port 4041.\n"
     ]
    },
    {
     "data": {
      "text/html": [
       "\n",
       "            <div>\n",
       "                <p><b>SparkSession - in-memory</b></p>\n",
       "                \n",
       "        <div>\n",
       "            <p><b>SparkContext</b></p>\n",
       "\n",
       "            <p><a href=\"http://10.114.225.3:4041\">Spark UI</a></p>\n",
       "\n",
       "            <dl>\n",
       "              <dt>Version</dt>\n",
       "                <dd><code>v3.4.0</code></dd>\n",
       "              <dt>Master</dt>\n",
       "                <dd><code>local[*]</code></dd>\n",
       "              <dt>AppName</dt>\n",
       "                <dd><code>pyspark-shell</code></dd>\n",
       "            </dl>\n",
       "        </div>\n",
       "        \n",
       "            </div>\n",
       "        "
      ],
      "text/plain": [
       "<pyspark.sql.session.SparkSession at 0x10771bc90>"
      ]
     },
     "execution_count": 1,
     "metadata": {},
     "output_type": "execute_result"
    }
   ],
   "source": [
    "# Make the MarkLogic connector available to the underlying PySpark application.\n",
    "import os\n",
    "os.environ['PYSPARK_SUBMIT_ARGS'] = '--jars \"marklogic-spark-connector-2.0.0.jar\" pyspark-shell'\n",
    "\n",
    "# Define the connection details for the getting-started example application.\n",
    "client_uri = \"spark-example-user:password@localhost:8003\"\n",
    "\n",
    "# Initialize a Spark session.\n",
    "from pyspark.sql import SparkSession\n",
    "spark = SparkSession.builder.master(\"local[*]\").getOrCreate()\n",
    "spark.sparkContext.setLogLevel(\"WARN\")\n",
    "spark"
   ]
  },
  {
   "cell_type": "code",
   "execution_count": 2,
   "id": "fd628cb5",
   "metadata": {},
   "outputs": [
    {
     "name": "stderr",
     "output_type": "stream",
     "text": [
      "                                                                                \r"
     ]
    },
    {
     "data": {
      "text/plain": [
       "Row(GUID='4c3c3ef7-e82c-4b48-b353-83d53617226e', HiredDate=datetime.date(2018, 3, 7), Gender='male', Title='Mr.', GivenName='Jamal', MiddleInitial='G', Surname='Burd', StreetAddress='3812 Edington Drive', City='Atlanta', State='GA', ZipCode='30328', Country='US', EmailAddress='JamalGBurd@dayrep.com', TelephoneNumber='678-750-3054', TelephoneCountryCode='1', Birthday='7/8/41', NationalID='260-96-6509', Point='33.963982,-84.375092', BaseSalary=71278.0, Bonus=7128.0, Department='Engineering', Status='Active - Regular Exempt (Full-time)', ManagerGUID='3ad0ffbc-3ade-4897-902b-718417a721f5')"
      ]
     },
     "execution_count": 2,
     "metadata": {},
     "output_type": "execute_result"
    }
   ],
   "source": [
    "# Load a DataFrame and view the first row.\n",
    "\n",
    "df = spark.read.format(\"com.marklogic.spark\") \\\n",
    "    .option(\"spark.marklogic.client.uri\", client_uri) \\\n",
    "    .option(\"spark.marklogic.read.opticQuery\", \"op.fromView('example', 'employee', '')\") \\\n",
    "    .option(\"spark.marklogic.read.numPartitions\", 1) \\\n",
    "    .load()\n",
    "\n",
    "df.head()"
   ]
  },
  {
   "cell_type": "code",
   "execution_count": 3,
   "id": "033e0621",
   "metadata": {},
   "outputs": [
    {
     "name": "stderr",
     "output_type": "stream",
     "text": [
      "\r",
      "[Stage 1:>                                                          (0 + 1) / 1]\r"
     ]
    },
    {
     "name": "stdout",
     "output_type": "stream",
     "text": [
      "+-----+-----------+-----+\n",
      "|State| Department|count|\n",
      "+-----+-----------+-----+\n",
      "|   CA|        R&D|   33|\n",
      "|   IL|        R&D|   26|\n",
      "|   TX|        R&D|   22|\n",
      "|   NY|        R&D|   19|\n",
      "|   NY|Engineering|   18|\n",
      "|   FL|        R&D|   16|\n",
      "|   MA|        R&D|   15|\n",
      "|   CA|      Sales|   14|\n",
      "|   TX|Engineering|   14|\n",
      "|   CA|  Marketing|   13|\n",
      "+-----+-----------+-----+\n",
      "\n"
     ]
    },
    {
     "name": "stderr",
     "output_type": "stream",
     "text": [
      "\r",
      "                                                                                \r"
     ]
    }
   ],
   "source": [
    "# Demonstrate several operations being pushed down to MarkLogic.\n",
    "\n",
    "from pyspark.sql.functions import desc\n",
    "df.filter(\"HiredDate < '2020-01-01'\") \\\n",
    "  .groupBy(\"State\", \"Department\") \\\n",
    "  .count() \\\n",
    "  .orderBy(desc(\"count\")) \\\n",
    "  .limit(10) \\\n",
    "  .show()"
   ]
  },
  {
   "cell_type": "code",
   "execution_count": 4,
   "id": "e7058823",
   "metadata": {},
   "outputs": [
    {
     "name": "stderr",
     "output_type": "stream",
     "text": [
      "                                                                                \r"
     ]
    },
    {
     "data": {
      "text/plain": [
       "<Axes: title={'center': 'Max Base Salaries Across Departments By State'}, xlabel='State', ylabel='Max Base Salary'>"
      ]
     },
     "execution_count": 4,
     "metadata": {},
     "output_type": "execute_result"
    },
    {
     "data": {
      "image/png": "[encoded data removed]",
      "text/plain": [
       "<Figure size 640x480 with 1 Axes>"
      ]
     },
     "metadata": {},
     "output_type": "display_data"
    }
   ],
   "source": [
    "# Group employees by State and then calculate the max base salary across each department, sorting on \n",
    "# the max base salary in the Engineering department. Then plot the data by converting the Spark DataFrame to \n",
    "# a pandas DataFrame - https://pandas.pydata.org/pandas-docs/stable/reference/api/pandas.DataFrame.plot.html . \n",
    "\n",
    "from pyspark.sql.functions import desc\n",
    "df.groupBy(\"State\") \\\n",
    "  .pivot(\"Department\") \\\n",
    "  .max(\"BaseSalary\") \\\n",
    "  .orderBy(desc(\"Engineering\")) \\\n",
    "  .limit(10) \\\n",
    "  .toPandas() \\\n",
    "  .plot(kind=\"bar\", title=\"Max Base Salaries Across Departments By State\", x=0, ylabel=\"Max Base Salary\")"
   ]
  },
  {
   "cell_type": "code",
   "execution_count": 5,
   "id": "f3f8259d",
   "metadata": {},
   "outputs": [
    {
     "name": "stderr",
     "output_type": "stream",
     "text": [
      "[Stage 5:>                                                          (0 + 1) / 1]\r"
     ]
    },
    {
     "name": "stdout",
     "output_type": "stream",
     "text": [
      "Finished writing documents to MarkLogic\n"
     ]
    },
    {
     "name": "stderr",
     "output_type": "stream",
     "text": [
      "\r",
      "                                                                                \r"
     ]
    }
   ],
   "source": [
    "# Similar to the above example, but write the results as new documents to MarkLogic.\n",
    "\n",
    "from pyspark.sql.functions import desc\n",
    "df.groupBy(\"State\") \\\n",
    "  .pivot(\"Department\") \\\n",
    "  .max(\"BaseSalary\") \\\n",
    "  .orderBy(desc(\"Engineering\")) \\\n",
    "  .write \\\n",
    "  .format(\"com.marklogic.spark\") \\\n",
    "  .option(\"spark.marklogic.client.uri\", client_uri) \\\n",
    "  .option(\"spark.marklogic.write.permissions\", \"rest-reader,read,rest-writer,update\") \\\n",
    "  .option(\"spark.marklogic.write.collections\", \"state-base-salaries\") \\\n",
    "  .option(\"spark.marklogic.write.uriTemplate\", \"/state-base-salary/{State}.json\") \\\n",
    "  .mode(\"append\") \\\n",
    "  .save()\n",
    "\n",
    "print(\"Finished writing documents to MarkLogic\")"
   ]
  }
 ],
 "metadata": {
  "kernelspec": {
   "display_name": "Python 3 (ipykernel)",
   "language": "python",
   "name": "python3"
  },
  "language_info": {
   "codemirror_mode": {
    "name": "ipython",
    "version": 3
   },
   "file_extension": ".py",
   "mimetype": "text/x-python",
   "name": "python",
   "nbconvert_exporter": "python",
   "pygments_lexer": "ipython3",
   "version": "3.11.3"
  }
 },
 "nbformat": 4,
 "nbformat_minor": 5
}
